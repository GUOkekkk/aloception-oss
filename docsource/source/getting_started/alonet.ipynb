{
 "cells": [
  {
   "cell_type": "markdown",
   "id": "0e7755b5",
   "metadata": {},
   "source": [
    "# Alonet\n",
    "\n",
    "The alonet package rely on the `aloscene`& `alodataset` package to provide training, inference and evaluation scripts for promissing computer vision architecture. DETR, Deformable-Detr and RAFT are one of the first include models on alonet. \n",
    "\n",
    "Our training scripts are usually split into three parts:\n",
    "\n",
    "- The dataset (provided by `alodataset`)\n",
    "- The data modules\n",
    "- The training pipeline\n",
    "\n",
    "Most of the provided training pipeline rely on pytorch ligntning. Beyond the complementary use of `aloscene` & `alodataset` we provide some helper methods to quickly restore and load previous training.\n",
    "\n",
    "## Datasets\n",
    "\n",
    "A dataset return data using the `aloscene` package and augmented tensors. All datasets provided by `alodataset` expose a `train_loader()` method that will be later use within a data modules.\n",
    "\n",
    "Here is some exmple of creating a training & validation loader using the Coco dataset."
   ]
  },
  {
   "cell_type": "code",
   "execution_count": 9,
   "id": "051558d8",
   "metadata": {},
   "outputs": [
    {
     "name": "stdout",
     "output_type": "stream",
     "text": [
      "loading annotations into memory...\n",
      "Done (t=11.36s)\n",
      "creating index...\n",
      "index created!\n",
      "loading annotations into memory...\n",
      "Done (t=0.47s)\n",
      "creating index...\n",
      "index created!\n"
     ]
    }
   ],
   "source": [
    "import alodataset\n",
    "\n",
    "# Using sample\n",
    "train_loader = alodataset.CocoDetectionDataset(sample=True).train_loader(batch_size=2)\n",
    "\n",
    "# Using the full dataset\n",
    "# Training loader\n",
    "train_loader = alodataset.CocoDetectionDataset(\n",
    "    img_folder = \"train2017\",\n",
    "    ann_file = \"annotations/instances_train2017.json\"\n",
    ").train_loader(batch_size=2)\n",
    "\n",
    "# Validation loader\n",
    "train_loader = alodataset.CocoDetectionDataset(\n",
    "    img_folder = \"val2017\",\n",
    "    ann_file = \"annotations/instances_val2017.json\"\n",
    ").train_loader(batch_size=2)"
   ]
  },
  {
   "cell_type": "markdown",
   "id": "1838740d",
   "metadata": {},
   "source": [
    "## Data modules\n",
    "\n",
    "Data modules are a <a hreg=\"https://pytorch-lightning.readthedocs.io/en/latest/extensions/datamodules.html\">concept introduced in pytorch ligntning</a>. In aloception, we use data modules to adapt one dataset to fit a particular training pipeline. This adapatation can include some change on the expected Frame structure or specific augmentation suited for the target training pipeline.\n",
    "\n",
    "Here is an example of data modules\n"
   ]
  },
  {
   "cell_type": "code",
   "execution_count": 20,
   "id": "53fbe2ac",
   "metadata": {},
   "outputs": [],
   "source": [
    "from argparse import ArgumentParser, Namespace\n",
    "from typing import Optional\n",
    "from alodataset import transforms as T \n",
    "import pytorch_lightning as pl\n",
    "import alodataset\n",
    "import alonet\n",
    "\n",
    "class CocoDetection2Detr(pl.LightningDataModule):\n",
    "    def __init__(self, batch_size=2):\n",
    "        super().__init__()\n",
    "        self.batch_size = batch_size\n",
    "        \n",
    "    def train_transform(self, frame, same_on_sequence: bool = True, same_on_frames: bool = False):\n",
    "        scales = [480, 512, 544, 576, 608, 640, 672, 704, 736, 768, 800]\n",
    "        frame = T.Compose([\n",
    "                T.RandomHorizontalFlip(),\n",
    "                T.RandomResizeWithAspectRatio(scales, max_size=1333),\n",
    "            ]\n",
    "        )(frame)\n",
    "        return frame.norm_resnet()\n",
    "\n",
    "    def val_transform(self, frame):\n",
    "        frame = T.RandomResizeWithAspectRatio(\n",
    "            [800], max_size=1333, same_on_sequence=same_on_sequence, same_on_frames=same_on_frames\n",
    "        )(frame)\n",
    "        return frame.norm_resnet()\n",
    "\n",
    "    def setup(self, stage: Optional[str] = None) -> None:\n",
    "        if stage == \"fit\" or stage is None:\n",
    "            # Setup train/val loaders\n",
    "            self.coco_train = alodataset.CocoDetectionDataset(\n",
    "                img_folder = \"train2017\",\n",
    "                ann_file = \"annotations/instances_val2017.json\"\n",
    "            )\n",
    "            self.coco_val = alodataset.CocoDetectionDataset(\n",
    "                img_folder = \"val2017\",\n",
    "                ann_file = \"annotations/instances_val2017.json\"\n",
    "            )\n",
    "\n",
    "    def train_dataloader(self):\n",
    "        if not hasattr(self, \"coco_train\"): self.setup()\n",
    "        return self.coco_train.train_loader(batch_size=self.batch_size)\n",
    "\n",
    "    def val_dataloader(self, sampler=None):\n",
    "        if not hasattr(self, \"coco_val\"): self.setup()\n",
    "        return self.coco_val.train_loader(batch_size=self.batch_size)"
   ]
  },
  {
   "cell_type": "markdown",
   "id": "ed13e84b",
   "metadata": {},
   "source": [
    "To know more about data modules, please refer to following pytorch ligntning documentation: \n",
    "<a href=\"https://pytorch-lightning.readthedocs.io/en/latest/extensions/datamodules.html\">https://pytorch-lightning.readthedocs.io/en/latest/extensions/datamodules.html</a>"
   ]
  },
  {
   "cell_type": "markdown",
   "id": "1951481a",
   "metadata": {},
   "source": [
    "## Training pipeline\n",
    "\n",
    "Our training pipelines are built using <a href=\"https://pytorch-lightning.readthedocs.io/en/latest/common/lightning_module.html\">Lightning modules</a>. \n",
    "\n",
    "Using one data module along with a training pipeline, training is all about connecting the two components together."
   ]
  },
  {
   "cell_type": "code",
   "execution_count": 27,
   "id": "90caf43f",
   "metadata": {},
   "outputs": [
    {
     "name": "stdout",
     "output_type": "stream",
     "text": [
      "loading annotations into memory...\n",
      "Done (t=16.04s)\n",
      "creating index...\n",
      "index created!\n",
      "loading annotations into memory...\n",
      "Done (t=0.34s)\n",
      "creating index...\n",
      "index created!\n"
     ]
    },
    {
     "ename": "AttributeError",
     "evalue": "'Namespace' object has no attribute 'log'",
     "output_type": "error",
     "traceback": [
      "\u001b[0;31m---------------------------------------------------------------------------\u001b[0m",
      "\u001b[0;31mAttributeError\u001b[0m                            Traceback (most recent call last)",
      "\u001b[0;32m/tmp/ipykernel_14985/770716054.py\u001b[0m in \u001b[0;36m<module>\u001b[0;34m\u001b[0m\n\u001b[1;32m      9\u001b[0m \u001b[0margs\u001b[0m\u001b[0;34m.\u001b[0m\u001b[0mrun_id\u001b[0m \u001b[0;34m=\u001b[0m \u001b[0;32mNone\u001b[0m\u001b[0;34m\u001b[0m\u001b[0;34m\u001b[0m\u001b[0m\n\u001b[1;32m     10\u001b[0m \u001b[0margs\u001b[0m\u001b[0;34m.\u001b[0m\u001b[0mno_suffix\u001b[0m \u001b[0;34m=\u001b[0m \u001b[0;32mFalse\u001b[0m\u001b[0;34m\u001b[0m\u001b[0;34m\u001b[0m\u001b[0m\n\u001b[0;32m---> 11\u001b[0;31m \u001b[0mdetr\u001b[0m\u001b[0;34m.\u001b[0m\u001b[0mrun_train\u001b[0m\u001b[0;34m(\u001b[0m\u001b[0mdata_loader\u001b[0m\u001b[0;34m=\u001b[0m\u001b[0mcoco_loader\u001b[0m\u001b[0;34m,\u001b[0m \u001b[0margs\u001b[0m\u001b[0;34m=\u001b[0m\u001b[0margs\u001b[0m\u001b[0;34m,\u001b[0m \u001b[0mproject\u001b[0m\u001b[0;34m=\u001b[0m\u001b[0;34m\"detr\"\u001b[0m\u001b[0;34m,\u001b[0m \u001b[0mexpe_name\u001b[0m\u001b[0;34m=\u001b[0m\u001b[0;34m\"test_experiment\"\u001b[0m\u001b[0;34m)\u001b[0m\u001b[0;34m\u001b[0m\u001b[0;34m\u001b[0m\u001b[0m\n\u001b[0m",
      "\u001b[0;32m~/work/visualbehavior/aloception/alonet/detr/train.py\u001b[0m in \u001b[0;36mrun_train\u001b[0;34m(self, data_loader, args, project, expe_name, callbacks)\u001b[0m\n\u001b[1;32m    258\u001b[0m             \u001b[0margs\u001b[0m\u001b[0;34m=\u001b[0m\u001b[0margs\u001b[0m\u001b[0;34m,\u001b[0m\u001b[0;34m\u001b[0m\u001b[0;34m\u001b[0m\u001b[0m\n\u001b[1;32m    259\u001b[0m             \u001b[0mproject\u001b[0m\u001b[0;34m=\u001b[0m\u001b[0mproject\u001b[0m\u001b[0;34m,\u001b[0m\u001b[0;34m\u001b[0m\u001b[0;34m\u001b[0m\u001b[0m\n\u001b[0;32m--> 260\u001b[0;31m             \u001b[0mexpe_name\u001b[0m\u001b[0;34m=\u001b[0m\u001b[0mexpe_name\u001b[0m\u001b[0;34m,\u001b[0m\u001b[0;34m\u001b[0m\u001b[0;34m\u001b[0m\u001b[0m\n\u001b[0m\u001b[1;32m    261\u001b[0m         )\n\u001b[1;32m    262\u001b[0m \u001b[0;34m\u001b[0m\u001b[0m\n",
      "\u001b[0;32m~/work/visualbehavior/aloception/alonet/common/pl_helpers.py\u001b[0m in \u001b[0;36mrun_pl_training\u001b[0;34m(lit_model, data_loader, callbacks, args, project, expe_name, **pl_trainer)\u001b[0m\n\u001b[1;32m    137\u001b[0m             \u001b[0mexpe_dir\u001b[0m \u001b[0;34m=\u001b[0m \u001b[0mos\u001b[0m\u001b[0;34m.\u001b[0m\u001b[0mpath\u001b[0m\u001b[0;34m.\u001b[0m\u001b[0mjoin\u001b[0m\u001b[0;34m(\u001b[0m\u001b[0mrun_id_project_dir\u001b[0m\u001b[0;34m,\u001b[0m \u001b[0margs\u001b[0m\u001b[0;34m.\u001b[0m\u001b[0mrun_id\u001b[0m\u001b[0;34m)\u001b[0m\u001b[0;34m\u001b[0m\u001b[0;34m\u001b[0m\u001b[0m\n\u001b[1;32m    138\u001b[0m \u001b[0;34m\u001b[0m\u001b[0m\n\u001b[0;32m--> 139\u001b[0;31m     \u001b[0;32mif\u001b[0m \u001b[0margs\u001b[0m\u001b[0;34m.\u001b[0m\u001b[0mlog\u001b[0m \u001b[0;32mis\u001b[0m \u001b[0;32mnot\u001b[0m \u001b[0;32mNone\u001b[0m\u001b[0;34m:\u001b[0m\u001b[0;34m\u001b[0m\u001b[0;34m\u001b[0m\u001b[0m\n\u001b[0m\u001b[1;32m    140\u001b[0m         \u001b[0;32mif\u001b[0m \u001b[0margs\u001b[0m\u001b[0;34m.\u001b[0m\u001b[0mlog\u001b[0m \u001b[0;34m==\u001b[0m \u001b[0;34m\"wandb\"\u001b[0m\u001b[0;34m:\u001b[0m\u001b[0;34m\u001b[0m\u001b[0;34m\u001b[0m\u001b[0m\n\u001b[1;32m    141\u001b[0m             \u001b[0mlogger\u001b[0m \u001b[0;34m=\u001b[0m \u001b[0mWandbLogger\u001b[0m\u001b[0;34m(\u001b[0m\u001b[0mname\u001b[0m\u001b[0;34m=\u001b[0m\u001b[0mexpe_name\u001b[0m\u001b[0;34m,\u001b[0m \u001b[0mproject\u001b[0m\u001b[0;34m=\u001b[0m\u001b[0mproject\u001b[0m\u001b[0;34m,\u001b[0m \u001b[0mid\u001b[0m\u001b[0;34m=\u001b[0m\u001b[0mexpe_name\u001b[0m\u001b[0;34m)\u001b[0m\u001b[0;34m\u001b[0m\u001b[0;34m\u001b[0m\u001b[0m\n",
      "\u001b[0;31mAttributeError\u001b[0m: 'Namespace' object has no attribute 'log'"
     ]
    }
   ],
   "source": [
    "from argparse import ArgumentParser, Namespace\n",
    "import alonet\n",
    "\n",
    "# Connect the two components\n",
    "detr = alonet.detr.LitDetr()\n",
    "coco_loader = CocoDetection2Detr(batch_size=2)\n",
    "\n",
    "args = Namespace()\n",
    "detr.run_train(data_loader=coco_loader, args=args, project=\"detr\", expe_name=\"test_experiment\")"
   ]
  }
 ],
 "metadata": {
  "kernelspec": {
   "display_name": "Python 3 (ipykernel)",
   "language": "python",
   "name": "python3"
  },
  "language_info": {
   "codemirror_mode": {
    "name": "ipython",
    "version": 3
   },
   "file_extension": ".py",
   "mimetype": "text/x-python",
   "name": "python",
   "nbconvert_exporter": "python",
   "pygments_lexer": "ipython3",
   "version": "3.7.10"
  }
 },
 "nbformat": 4,
 "nbformat_minor": 5
}
